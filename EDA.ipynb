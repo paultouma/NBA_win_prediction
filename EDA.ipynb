{
 "cells": [
  {
   "cell_type": "code",
   "execution_count": 1,
   "metadata": {},
   "outputs": [
    {
     "name": "stdout",
     "output_type": "stream",
     "text": [
      "Raw_Data/2000-2001.json\n",
      "Raw_Data/2001-2002.json\n",
      "Raw_Data/2002-2003.json\n",
      "Raw_Data/2003-2004.json\n",
      "Raw_Data/2004-2005.json\n",
      "Raw_Data/2005-2006.json\n",
      "Raw_Data/2006-2007.json\n",
      "Raw_Data/2007-2008.json\n",
      "Raw_Data/2008-2009.json\n",
      "Raw_Data/2009-2010.json\n",
      "Raw_Data/2010-2011.json\n",
      "Raw_Data/2011-2012.json\n",
      "Raw_Data/2012-2013.json\n",
      "Raw_Data/2013-2014.json\n",
      "Raw_Data/2014-2015.json\n",
      "Raw_Data/2015-2016.json\n",
      "Raw_Data/2016-2017.json\n",
      "Raw_Data/2017-2018.json\n"
     ]
    }
   ],
   "source": [
    "import json\n",
    "current_season = 2000\n",
    "end_season = 2017\n",
    "\n",
    "all_data = []\n",
    "\n",
    "#amalgamate the data\n",
    "while current_season <= end_season: \n",
    "    filename = 'Raw_Data/' + str(current_season) + '-' + str(current_season + 1) + '.json'\n",
    "    print(filename)\n",
    "    with open(filename) as data_file:    \n",
    "        data = json.load(data_file)\n",
    "        all_data.append(data)\n",
    "    \n",
    "    current_season += 1"
   ]
  },
  {
   "cell_type": "code",
   "execution_count": 2,
   "metadata": {},
   "outputs": [
    {
     "data": {
      "text/plain": [
       "18"
      ]
     },
     "execution_count": 2,
     "metadata": {},
     "output_type": "execute_result"
    }
   ],
   "source": [
    "len(all_data)"
   ]
  },
  {
   "cell_type": "code",
   "execution_count": 3,
   "metadata": {},
   "outputs": [],
   "source": [
    "#get the teams for each season\n",
    "season_teams_sets = []\n",
    "for season in all_data:\n",
    "    set_of_teams = set()\n",
    "    for game in season:\n",
    "        teams_and_data = game[\"teams_and_data\"]\n",
    "        at = teams_and_data.index(\" at \")\n",
    "        pbp = teams_and_data.index(\"Play-By-Play\")\n",
    "        home_team = teams_and_data[at+4: pbp].rstrip()\n",
    "        away_team = teams_and_data[0:at].rstrip()\n",
    "        set_of_teams.add(home_team)\n",
    "        set_of_teams.add(away_team)\n",
    "    season_teams_sets.append(set_of_teams)   "
   ]
  },
  {
   "cell_type": "code",
   "execution_count": 31,
   "metadata": {},
   "outputs": [
    {
     "data": {
      "text/plain": [
       "{('Brooklyn Nets', '2012-2013'),\n",
       " ('Brooklyn Nets', '2013-2014'),\n",
       " ('Brooklyn Nets', '2014-2015'),\n",
       " ('Brooklyn Nets', '2015-2016'),\n",
       " ('Brooklyn Nets', '2016-2017'),\n",
       " ('Brooklyn Nets', '2017-2018'),\n",
       " ('Charlotte Bobcats', '2004-2005'),\n",
       " ('Charlotte Bobcats', '2005-2006'),\n",
       " ('Charlotte Bobcats', '2006-2007'),\n",
       " ('Charlotte Bobcats', '2007-2008'),\n",
       " ('Charlotte Bobcats', '2008-2009'),\n",
       " ('Charlotte Bobcats', '2009-2010'),\n",
       " ('Charlotte Bobcats', '2010-2011'),\n",
       " ('Charlotte Bobcats', '2011-2012'),\n",
       " ('Charlotte Bobcats', '2012-2013'),\n",
       " ('Charlotte Bobcats', '2013-2014'),\n",
       " ('Charlotte Hornets', '2000-2001'),\n",
       " ('Charlotte Hornets', '2001-2002'),\n",
       " ('Charlotte Hornets', '2014-2015'),\n",
       " ('Charlotte Hornets', '2015-2016'),\n",
       " ('Charlotte Hornets', '2016-2017'),\n",
       " ('Charlotte Hornets', '2017-2018'),\n",
       " ('Memphis Grizzlies', '2001-2002'),\n",
       " ('Memphis Grizzlies', '2002-2003'),\n",
       " ('Memphis Grizzlies', '2003-2004'),\n",
       " ('Memphis Grizzlies', '2004-2005'),\n",
       " ('Memphis Grizzlies', '2005-2006'),\n",
       " ('Memphis Grizzlies', '2006-2007'),\n",
       " ('Memphis Grizzlies', '2007-2008'),\n",
       " ('Memphis Grizzlies', '2008-2009'),\n",
       " ('Memphis Grizzlies', '2009-2010'),\n",
       " ('Memphis Grizzlies', '2010-2011'),\n",
       " ('Memphis Grizzlies', '2011-2012'),\n",
       " ('Memphis Grizzlies', '2012-2013'),\n",
       " ('Memphis Grizzlies', '2013-2014'),\n",
       " ('Memphis Grizzlies', '2014-2015'),\n",
       " ('Memphis Grizzlies', '2015-2016'),\n",
       " ('Memphis Grizzlies', '2016-2017'),\n",
       " ('Memphis Grizzlies', '2017-2018'),\n",
       " ('New Jersey Nets', '2000-2001'),\n",
       " ('New Jersey Nets', '2001-2002'),\n",
       " ('New Jersey Nets', '2002-2003'),\n",
       " ('New Jersey Nets', '2003-2004'),\n",
       " ('New Jersey Nets', '2004-2005'),\n",
       " ('New Jersey Nets', '2005-2006'),\n",
       " ('New Jersey Nets', '2006-2007'),\n",
       " ('New Jersey Nets', '2007-2008'),\n",
       " ('New Jersey Nets', '2008-2009'),\n",
       " ('New Jersey Nets', '2009-2010'),\n",
       " ('New Jersey Nets', '2010-2011'),\n",
       " ('New Jersey Nets', '2011-2012'),\n",
       " ('New Orleans Hornets', '2002-2003'),\n",
       " ('New Orleans Hornets', '2003-2004'),\n",
       " ('New Orleans Hornets', '2004-2005'),\n",
       " ('New Orleans Hornets', '2007-2008'),\n",
       " ('New Orleans Hornets', '2008-2009'),\n",
       " ('New Orleans Hornets', '2009-2010'),\n",
       " ('New Orleans Hornets', '2010-2011'),\n",
       " ('New Orleans Hornets', '2011-2012'),\n",
       " ('New Orleans Hornets', '2012-2013'),\n",
       " ('New Orleans Pelicans', '2013-2014'),\n",
       " ('New Orleans Pelicans', '2014-2015'),\n",
       " ('New Orleans Pelicans', '2015-2016'),\n",
       " ('New Orleans Pelicans', '2016-2017'),\n",
       " ('New Orleans Pelicans', '2017-2018'),\n",
       " ('New Orleans/Oklahoma City Hornets', '2005-2006'),\n",
       " ('New Orleans/Oklahoma City Hornets', '2006-2007'),\n",
       " ('Oklahoma City Thunder', '2008-2009'),\n",
       " ('Oklahoma City Thunder', '2009-2010'),\n",
       " ('Oklahoma City Thunder', '2010-2011'),\n",
       " ('Oklahoma City Thunder', '2011-2012'),\n",
       " ('Oklahoma City Thunder', '2012-2013'),\n",
       " ('Oklahoma City Thunder', '2013-2014'),\n",
       " ('Oklahoma City Thunder', '2014-2015'),\n",
       " ('Oklahoma City Thunder', '2015-2016'),\n",
       " ('Oklahoma City Thunder', '2016-2017'),\n",
       " ('Oklahoma City Thunder', '2017-2018'),\n",
       " ('Seattle SuperSonics', '2000-2001'),\n",
       " ('Seattle SuperSonics', '2001-2002'),\n",
       " ('Seattle SuperSonics', '2002-2003'),\n",
       " ('Seattle SuperSonics', '2003-2004'),\n",
       " ('Seattle SuperSonics', '2004-2005'),\n",
       " ('Seattle SuperSonics', '2005-2006'),\n",
       " ('Seattle SuperSonics', '2006-2007'),\n",
       " ('Seattle SuperSonics', '2007-2008'),\n",
       " ('Vancouver Grizzlies', '2000-2001')}"
      ]
     },
     "execution_count": 31,
     "metadata": {},
     "output_type": "execute_result"
    }
   ],
   "source": [
    "#keep track  of teams that aren't consistent across all seasons\n",
    "inconsistent_teams_and_seasons_across_all_seasons = set()\n",
    "\n",
    "consistent_just_teams = set()\n",
    "current_season = 2000\n",
    "for season_teams in season_teams_sets:\n",
    "    for team in season_teams:\n",
    "        if (team not in consistent_just_teams):\n",
    "            in_all_other_seasons = True\n",
    "            for season_teams_checker in season_teams_sets:\n",
    "                if team not in season_teams_checker:\n",
    "                    in_all_other_seasons = False\n",
    "                    break\n",
    "            if in_all_other_seasons:\n",
    "                consistent_just_teams.add(team)\n",
    "            else: inconsistent_teams_and_seasons_across_all_seasons.add((team , str(current_season) + '-' + str(current_season + 1)))\n",
    "    current_season += 1\n",
    "    \n",
    "consistent_just_teams #team names that stay the same\n",
    "inconsistent_teams_and_seasons_across_all_seasons #team names that aren't persistent throughout all seasons"
   ]
  },
  {
   "cell_type": "code",
   "execution_count": 8,
   "metadata": {},
   "outputs": [
    {
     "name": "stdout",
     "output_type": "stream",
     "text": [
      "Mean 446.31728325939963\n",
      "SD 33.39426004954058\n",
      "Min: 339\n",
      "Max: 694\n",
      "Number of games with > 600 plays: 28\n",
      "Number of games with < 360 plays: 12\n"
     ]
    },
    {
     "data": {
      "text/plain": [
       "['<=360 plays Atlanta Hawks at Detroit Pistons Play-By-Play, February 14, 2011 94-79',\n",
       " '<=360 plays Boston Celtics at Detroit Pistons Play-By-Play, February 6, 2007 102-109',\n",
       " '<=360 plays Brooklyn Nets at Miami Heat Play-By-Play, April 8, 2014 88-87',\n",
       " '<=360 plays Charlotte Bobcats at Cleveland Cavaliers Play-By-Play, January 3, 2010 91-88',\n",
       " '<=360 plays Charlotte Hornets at Toronto Raptors Play-By-Play, April 15, 2015 87-92',\n",
       " '<=360 plays Chicago Bulls at Atlanta Hawks Play-By-Play, December 22, 2012 75-92',\n",
       " '<=360 plays Dallas Mavericks at Miami Heat Play-By-Play, December 22, 2017 101-113',\n",
       " '<=360 plays Indiana Pacers at Los Angeles Clippers Play-By-Play, December 1, 2004 76-88',\n",
       " '<=360 plays Los Angeles Lakers at Dallas Mavericks Play-By-Play, January 19, 2011 100-109',\n",
       " '<=360 plays Miami Heat at New Orleans Hornets Play-By-Play, January 11, 2008 88-114',\n",
       " '<=360 plays Miami Heat at Philadelphia 76ers Play-By-Play, December 17, 2003 76-87',\n",
       " '<=360 plays New York Knicks at Charlotte Bobcats Play-By-Play, April 15, 2013 95-106',\n",
       " '<=360 plays Orlando Magic at Detroit Pistons Play-By-Play, December 3, 2010 104-91',\n",
       " '<=360 plays Portland Trail Blazers at New Orleans Hornets Play-By-Play, March 27, 2010 112-101',\n",
       " '>=625 plays Boston Celtics at Philadelphia 76ers Play-By-Play, January 13, 2006 124-125',\n",
       " '>=625 plays Detroit Pistons at Chicago Bulls Play-By-Play, December 18, 2015 147-144',\n",
       " '>=625 plays Detroit Pistons at New York Knicks Play-By-Play, December 27, 2006 145-151',\n",
       " '>=625 plays New Jersey Nets at Detroit Pistons Play-By-Play, May 14, 2004 127-120',\n",
       " '>=625 plays New York Knicks at Atlanta Hawks Play-By-Play, January 29, 2017 139-142',\n",
       " '>=625 plays New York Knicks at Memphis Grizzlies Play-By-Play, November 1, 2006 118-117',\n",
       " '>=625 plays Oklahoma City Thunder at Memphis Grizzlies Play-By-Play, May 9, 2011 133-123',\n",
       " '>=625 plays Oklahoma City Thunder at Orlando Magic Play-By-Play, October 30, 2015 139-136',\n",
       " '>=625 plays Toronto Raptors at New Jersey Nets Play-By-Play, March 5, 2011 136-137',\n",
       " '>=625 plays Utah Jazz at Atlanta Hawks Play-By-Play, March 25, 2012 133-139']"
      ]
     },
     "execution_count": 8,
     "metadata": {},
     "output_type": "execute_result"
    }
   ],
   "source": [
    "min_num_plays = 1000000000\n",
    "max_num_plays = 0\n",
    "\n",
    "import matplotlib.pyplot as plt\n",
    "import numpy as np\n",
    "\n",
    "\n",
    "all_games_num_plays = []\n",
    "\n",
    "extreme_games = []\n",
    "\n",
    "count_above = 0\n",
    "count_below = 0\n",
    "for season in all_data:\n",
    "    for game in season:\n",
    "        num_plays = len(game[\"plays\"])\n",
    "        all_games_num_plays.append(num_plays)\n",
    "        if num_plays < min_num_plays:\n",
    "            min_num_plays = num_plays\n",
    "        elif num_plays > max_num_plays:\n",
    "            max_num_plays = num_plays\n",
    "        \n",
    "        if num_plays > 600:\n",
    "            count_above +=1\n",
    "        if num_plays < 360:\n",
    "            count_below +=1\n",
    "            \n",
    "        if num_plays >= 625:\n",
    "            extreme_games.append(\">=625 plays \" + game[\"teams_and_data\"] + \" \" + game[\"plays\"][len(game[\"plays\"]) - 1][\"score\"])\n",
    "        if num_plays <= 360:\n",
    "            extreme_games.append(\"<=360 plays \" + game[\"teams_and_data\"] + \" \" + game[\"plays\"][len(game[\"plays\"]) - 1][\"score\"])\n",
    "        \n",
    "\n",
    "print(\"Mean\", np.mean(all_games_num_plays))\n",
    "print(\"SD\", np.std(all_games_num_plays))\n",
    "print(\"Min:\", min_num_plays)\n",
    "print(\"Max:\", max_num_plays)\n",
    "print(\"Number of games with > 600 plays:\", count_above)\n",
    "print(\"Number of games with < 360 plays:\", count_below)\n",
    "\n",
    "extreme_games.sort()\n",
    "extreme_games"
   ]
  },
  {
   "cell_type": "code",
   "execution_count": 9,
   "metadata": {},
   "outputs": [
    {
     "name": "stderr",
     "output_type": "stream",
     "text": [
      "/Users/paul2/anaconda3/lib/python3.7/site-packages/matplotlib/axes/_base.py:3610: MatplotlibDeprecationWarning: \n",
      "The `ymax` argument was deprecated in Matplotlib 3.0 and will be removed in 3.2. Use `top` instead.\n",
      "  alternative='`top`', obj_type='argument')\n"
     ]
    },
    {
     "data": {
      "text/plain": [
       "(0.0, 960.0)"
      ]
     },
     "execution_count": 9,
     "metadata": {},
     "output_type": "execute_result"
    },
    {
     "data": {
      "image/png": "[encoded data removed]",
      "text/plain": [
       "<Figure size 432x288 with 1 Axes>"
      ]
     },
     "metadata": {
      "needs_background": "light"
     },
     "output_type": "display_data"
    }
   ],
   "source": [
    "#histogram\n",
    "\n",
    "n, bins, patches = plt.hist(x=all_games_num_plays, bins='auto', color='#0504aa',\n",
    "                            alpha=1, rwidth=0.90)\n",
    "plt.grid(axis='y', alpha=0.75)\n",
    "plt.xlabel('Plays in Game')\n",
    "plt.ylabel('Frequency')\n",
    "plt.title('Histogram of Num Plays')\n",
    "plt.text(23, 45, r'$\\mu=446.3, std=33.4$')\n",
    "maxfreq = n.max()\n",
    "# Set a clean upper y-axis limit.\n",
    "plt.ylim(ymax=np.ceil(maxfreq / 10) * 10 if maxfreq % 10 else maxfreq + 10)"
   ]
  },
  {
   "cell_type": "code",
   "execution_count": 27,
   "metadata": {},
   "outputs": [
    {
     "name": "stdout",
     "output_type": "stream",
     "text": [
      "Total number of games in  2000-2001  season:  1260\n",
      "Total number of games in  2001-2002  season:  1260\n",
      "Total number of games in  2002-2003  season:  1277\n",
      "Total number of games in  2003-2004  season:  1271\n",
      "Total number of games in  2004-2005  season:  1314\n",
      "Total number of games in  2005-2006  season:  1319\n",
      "Total number of games in  2006-2007  season:  1309\n",
      "Total number of games in  2007-2008  season:  1316\n",
      "Total number of games in  2008-2009  season:  1315\n",
      "Total number of games in  2009-2010  season:  1312\n",
      "Total number of games in  2010-2011  season:  1311\n",
      "Total number of games in  2011-2012  season:  1074\n",
      "Total number of games in  2012-2013  season:  1314\n",
      "Total number of games in  2013-2014  season:  1319\n",
      "Total number of games in  2014-2015  season:  1311\n",
      "Total number of games in  2015-2016  season:  1316\n",
      "Total number of games in  2016-2017  season:  1309\n",
      "Total number of games in  2017-2018  season:  1312\n"
     ]
    }
   ],
   "source": [
    "for i in range(len(all_data)):\n",
    "    print(\"Total number of games in \", str(2000 + i) + \"-\" + str(2001 + i), \" season: \", str(len(all_data[i])) )"
   ]
  }
 ],
 "metadata": {
  "kernelspec": {
   "display_name": "Python 3",
   "language": "python",
   "name": "python3"
  },
  "language_info": {
   "codemirror_mode": {
    "name": "ipython",
    "version": 3
   },
   "file_extension": ".py",
   "mimetype": "text/x-python",
   "name": "python",
   "nbconvert_exporter": "python",
   "pygments_lexer": "ipython3",
   "version": "3.7.2"
  }
 },
 "nbformat": 4,
 "nbformat_minor": 2
}
